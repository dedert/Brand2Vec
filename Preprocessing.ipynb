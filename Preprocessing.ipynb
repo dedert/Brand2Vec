{
 "cells": [
  {
   "cell_type": "markdown",
   "metadata": {},
   "source": [
    "##### 2016.12.11 최종 버전"
   ]
  },
  {
   "cell_type": "code",
   "execution_count": 6,
   "metadata": {
    "collapsed": false
   },
   "outputs": [],
   "source": [
    "from preprocess import util, preprocess\n",
    "import pandas as pd"
   ]
  },
  {
   "cell_type": "markdown",
   "metadata": {
    "collapsed": true
   },
   "source": [
    "1. 데이터 불러와서 meta 와 join\n",
    "2. 문장 단위로 형태소 분석"
   ]
  },
  {
   "cell_type": "code",
   "execution_count": 14,
   "metadata": {
    "collapsed": true
   },
   "outputs": [],
   "source": [
    "data_path = \"E:/dataset/Amazon/\"\n",
    "save_path = \"E:/dataset/MasterThesis/FINAL/preprocess_data/\"\n",
    "category_list = [\"Electronics\",\"Beauty\",\"Clothing_Shoes_and_Jewelry\"]"
   ]
  },
  {
   "cell_type": "code",
   "execution_count": 4,
   "metadata": {
    "collapsed": false
   },
   "outputs": [
    {
     "name": "stdout",
     "output_type": "stream",
     "text": [
      "Start extract sentences of Electronics\n",
      "Completed extract sentences of Electronics, time : 488.42\n",
      "Start extract samples from data\n",
      "Completed extract samples of Electronics, time : 3.74\n",
      "check shape ----------\n",
      "Electronics shape after sampling : 250000, 10\n",
      "Start pos tag of sentences in Electronics\n",
      "Completed pos-tagging and save of Electronics, time : 1799.74\n",
      "Start preprocessing in Electronics\n",
      "Completed preprocess and save of Electronics, time : 88.07\n",
      "Start extract sentences of Beauty\n",
      "Completed extract sentences of Beauty, time : 202.66\n",
      "Start extract samples from data\n",
      "Completed extract samples of Beauty, time : 7.05\n",
      "check shape ----------\n",
      "Beauty shape after sampling : 202181, 10\n",
      "Start pos tag of sentences in Beauty\n",
      "Completed pos-tagging and save of Beauty, time : 792.45\n",
      "Start preprocessing in Beauty\n",
      "Completed preprocess and save of Beauty, time : 39.41\n",
      "Start extract sentences of Clothing_Shoes_and_Jewelry\n",
      "Completed extract sentences of Clothing_Shoes_and_Jewelry, time : 124.45\n",
      "Start extract samples from data\n",
      "Completed extract samples of Clothing_Shoes_and_Jewelry, time : 3.58\n",
      "check shape ----------\n",
      "Clothing_Shoes_and_Jewelry shape after sampling : 178026, 10\n",
      "Start pos tag of sentences in Clothing_Shoes_and_Jewelry\n",
      "Completed pos-tagging and save of Clothing_Shoes_and_Jewelry, time : 676.39\n",
      "Start preprocessing in Clothing_Shoes_and_Jewelry\n",
      "Completed preprocess and save of Clothing_Shoes_and_Jewelry, time : 31.93\n",
      "Wall time: 1h 11min 37s\n"
     ]
    }
   ],
   "source": [
    "%%time\n",
    "pre = preprocess.Preprocess(data_path, save_path, category_list)\n",
    "pre.preprocess()"
   ]
  },
  {
   "cell_type": "code",
   "execution_count": 8,
   "metadata": {
    "collapsed": false
   },
   "outputs": [],
   "source": [
    "category = \"Electronics\"\n",
    "data = pd.read_csv(save_path + \"preprocess_complete_\" + category + \".csv\")"
   ]
  },
  {
   "cell_type": "code",
   "execution_count": 15,
   "metadata": {
    "collapsed": false
   },
   "outputs": [
    {
     "data": {
      "text/html": [
       "<div>\n",
       "<table border=\"1\" class=\"dataframe\">\n",
       "  <thead>\n",
       "    <tr style=\"text-align: right;\">\n",
       "      <th></th>\n",
       "      <th>reviewTime</th>\n",
       "      <th>asin</th>\n",
       "      <th>reviewerID</th>\n",
       "      <th>overall</th>\n",
       "      <th>helpful</th>\n",
       "      <th>reviewText</th>\n",
       "      <th>title</th>\n",
       "      <th>brand</th>\n",
       "      <th>reviewSentence</th>\n",
       "      <th>sent_length</th>\n",
       "      <th>reviewSentence_tagged</th>\n",
       "      <th>preprocessed</th>\n",
       "    </tr>\n",
       "  </thead>\n",
       "  <tbody>\n",
       "    <tr>\n",
       "      <th>0</th>\n",
       "      <td>2013-07-21</td>\n",
       "      <td>B00CM0XHNS</td>\n",
       "      <td>A372YX80GGM7DR</td>\n",
       "      <td>5.0</td>\n",
       "      <td>576</td>\n",
       "      <td>Ok, so I didn't buy this on Amazon, as I didn'...</td>\n",
       "      <td>Ultimate Ears BOOM Wireless Bluetooth Speaker ...</td>\n",
       "      <td>Logitech</td>\n",
       "      <td>[\"Ok, so I didn't buy this on Amazon, as I did...</td>\n",
       "      <td>58</td>\n",
       "      <td>[[('Ok', 'NNP'), (',', ','), ('so', 'IN'), ('I...</td>\n",
       "      <td>[['ok', 'so', 'i', 'did', \"n't\", 'buy', 'this'...</td>\n",
       "    </tr>\n",
       "    <tr>\n",
       "      <th>1</th>\n",
       "      <td>2013-05-19</td>\n",
       "      <td>B00BQ5RY1G</td>\n",
       "      <td>A1BG2Z071TYO7P</td>\n",
       "      <td>2.0</td>\n",
       "      <td>522</td>\n",
       "      <td>I received a Harmony Ultimate from Logitech be...</td>\n",
       "      <td>Logitech Harmony Ultimate Remote with Customiz...</td>\n",
       "      <td>Logitech</td>\n",
       "      <td>['I received a Harmony Ultimate from Logitech ...</td>\n",
       "      <td>27</td>\n",
       "      <td>[[('I', 'PRP'), ('received', 'VBD'), ('a', 'DT...</td>\n",
       "      <td>[['i', 'received', 'a', 'harmony', 'ultimate',...</td>\n",
       "    </tr>\n",
       "    <tr>\n",
       "      <th>2</th>\n",
       "      <td>2013-12-16</td>\n",
       "      <td>B00EZ9XG62</td>\n",
       "      <td>AELAESM03451</td>\n",
       "      <td>1.0</td>\n",
       "      <td>290</td>\n",
       "      <td>This review is for the iPad Air keyboard. I ha...</td>\n",
       "      <td>Logitech Ultrathin Keyboard Cover for iPad Air...</td>\n",
       "      <td>Logitech</td>\n",
       "      <td>['This review is for the iPad Air keyboard.', ...</td>\n",
       "      <td>23</td>\n",
       "      <td>[[('This', 'DT'), ('review', 'NN'), ('is', 'VB...</td>\n",
       "      <td>[['this', 'review', 'is', 'for', 'the', 'ipad'...</td>\n",
       "    </tr>\n",
       "    <tr>\n",
       "      <th>3</th>\n",
       "      <td>2013-01-21</td>\n",
       "      <td>B0099SMFVQ</td>\n",
       "      <td>A36CMGR5ELUM34</td>\n",
       "      <td>5.0</td>\n",
       "      <td>283</td>\n",
       "      <td>Design: Very well put together. Elegant and th...</td>\n",
       "      <td>Logitech Bluetooth Illuminated Keyboard K810 f...</td>\n",
       "      <td>Logitech</td>\n",
       "      <td>['Design: Very well put together.', 'Elegant a...</td>\n",
       "      <td>28</td>\n",
       "      <td>[[('Design', 'NN'), (':', ':'), ('Very', 'RB')...</td>\n",
       "      <td>[['design', 'very', 'well', 'put', 'together']...</td>\n",
       "    </tr>\n",
       "    <tr>\n",
       "      <th>4</th>\n",
       "      <td>2013-07-29</td>\n",
       "      <td>B00CM0XHNS</td>\n",
       "      <td>A9TETE58A7JR3</td>\n",
       "      <td>3.0</td>\n",
       "      <td>260</td>\n",
       "      <td>So, I've been testing a few bluetooth speakers...</td>\n",
       "      <td>Ultimate Ears BOOM Wireless Bluetooth Speaker ...</td>\n",
       "      <td>Logitech</td>\n",
       "      <td>[\"So, I've been testing a few bluetooth speake...</td>\n",
       "      <td>57</td>\n",
       "      <td>[[('So', 'RB'), (',', ','), ('I', 'PRP'), (\"'v...</td>\n",
       "      <td>[['so', 'i', 'been', 'testing', 'a', 'few', 'b...</td>\n",
       "    </tr>\n",
       "  </tbody>\n",
       "</table>\n",
       "</div>"
      ],
      "text/plain": [
       "   reviewTime        asin      reviewerID  overall  helpful  \\\n",
       "0  2013-07-21  B00CM0XHNS  A372YX80GGM7DR      5.0      576   \n",
       "1  2013-05-19  B00BQ5RY1G  A1BG2Z071TYO7P      2.0      522   \n",
       "2  2013-12-16  B00EZ9XG62    AELAESM03451      1.0      290   \n",
       "3  2013-01-21  B0099SMFVQ  A36CMGR5ELUM34      5.0      283   \n",
       "4  2013-07-29  B00CM0XHNS   A9TETE58A7JR3      3.0      260   \n",
       "\n",
       "                                          reviewText  \\\n",
       "0  Ok, so I didn't buy this on Amazon, as I didn'...   \n",
       "1  I received a Harmony Ultimate from Logitech be...   \n",
       "2  This review is for the iPad Air keyboard. I ha...   \n",
       "3  Design: Very well put together. Elegant and th...   \n",
       "4  So, I've been testing a few bluetooth speakers...   \n",
       "\n",
       "                                               title     brand  \\\n",
       "0  Ultimate Ears BOOM Wireless Bluetooth Speaker ...  Logitech   \n",
       "1  Logitech Harmony Ultimate Remote with Customiz...  Logitech   \n",
       "2  Logitech Ultrathin Keyboard Cover for iPad Air...  Logitech   \n",
       "3  Logitech Bluetooth Illuminated Keyboard K810 f...  Logitech   \n",
       "4  Ultimate Ears BOOM Wireless Bluetooth Speaker ...  Logitech   \n",
       "\n",
       "                                      reviewSentence  sent_length  \\\n",
       "0  [\"Ok, so I didn't buy this on Amazon, as I did...           58   \n",
       "1  ['I received a Harmony Ultimate from Logitech ...           27   \n",
       "2  ['This review is for the iPad Air keyboard.', ...           23   \n",
       "3  ['Design: Very well put together.', 'Elegant a...           28   \n",
       "4  [\"So, I've been testing a few bluetooth speake...           57   \n",
       "\n",
       "                               reviewSentence_tagged  \\\n",
       "0  [[('Ok', 'NNP'), (',', ','), ('so', 'IN'), ('I...   \n",
       "1  [[('I', 'PRP'), ('received', 'VBD'), ('a', 'DT...   \n",
       "2  [[('This', 'DT'), ('review', 'NN'), ('is', 'VB...   \n",
       "3  [[('Design', 'NN'), (':', ':'), ('Very', 'RB')...   \n",
       "4  [[('So', 'RB'), (',', ','), ('I', 'PRP'), (\"'v...   \n",
       "\n",
       "                                        preprocessed  \n",
       "0  [['ok', 'so', 'i', 'did', \"n't\", 'buy', 'this'...  \n",
       "1  [['i', 'received', 'a', 'harmony', 'ultimate',...  \n",
       "2  [['this', 'review', 'is', 'for', 'the', 'ipad'...  \n",
       "3  [['design', 'very', 'well', 'put', 'together']...  \n",
       "4  [['so', 'i', 'been', 'testing', 'a', 'few', 'b...  "
      ]
     },
     "execution_count": 15,
     "metadata": {},
     "output_type": "execute_result"
    }
   ],
   "source": [
    "data.head()"
   ]
  },
  {
   "cell_type": "code",
   "execution_count": null,
   "metadata": {
    "collapsed": true
   },
   "outputs": [],
   "source": []
  }
 ],
 "metadata": {
  "anaconda-cloud": {},
  "kernelspec": {
   "display_name": "Python [conda root]",
   "language": "python",
   "name": "conda-root-py"
  },
  "language_info": {
   "codemirror_mode": {
    "name": "ipython",
    "version": 3
   },
   "file_extension": ".py",
   "mimetype": "text/x-python",
   "name": "python",
   "nbconvert_exporter": "python",
   "pygments_lexer": "ipython3",
   "version": "3.5.2"
  }
 },
 "nbformat": 4,
 "nbformat_minor": 1
}
